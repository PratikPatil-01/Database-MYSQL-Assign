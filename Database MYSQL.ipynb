{
 "cells": [
  {
   "cell_type": "markdown",
   "id": "239ec90f-8748-416e-a272-5386df225b02",
   "metadata": {},
   "source": [
    "#1"
   ]
  },
  {
   "cell_type": "markdown",
   "id": "84970060-dc36-44e5-abf5-78c4285306d3",
   "metadata": {},
   "source": [
    "a) A database is a structured set of data held in a computer, especially one that is accessible in various ways.\n",
    "b) SQL stands for Structured Query Language while NoSQL stands for \"Not Only Structured Query Language.\"\n",
    "c) They differ in whether they are relational (SQL) or non-relational (NoSQL), whether their schemas are predefined or dynamic, how they scale, the type of data they include and whether they are more fit for multi-row transactions or unstructured data.\n"
   ]
  },
  {
   "cell_type": "markdown",
   "id": "f40c2338-ab71-4035-918b-945da0088118",
   "metadata": {},
   "source": [
    "#2"
   ]
  },
  {
   "cell_type": "markdown",
   "id": "4bff542d-94e6-4dab-99fd-d200ab5a0be8",
   "metadata": {},
   "source": [
    "DDL statements are similar to a computer programming language for defining data structures, especially database schemas. Common examples of DDL statements include CREATE, ALTER, and DROP. Today's databases incorporate DDL in any formal language that describes data, although it is considered a subset of SQL.\n",
    "CREATE - It is used to create a table.\n",
    "Alter - It is used to alter the data in the table.\n",
    "Truncate - It is used to delete the complete data from the table without deleting the table structure.\n",
    "Drop -  It is used to drop a data in the table."
   ]
  },
  {
   "cell_type": "markdown",
   "id": "a72df41f-d5fc-4127-b211-b8d3a9bc867b",
   "metadata": {},
   "source": [
    "#3"
   ]
  },
  {
   "cell_type": "markdown",
   "id": "27efa6d0-b96b-453d-8933-f39d47dea373",
   "metadata": {},
   "source": [
    "SQL uses specific commands like Create, Drop, Insert, etc., to carry out the required tasks. DML is an abbreviation for Data Manipulation Language. Represents a collection of programming languages explicitly used to make changes to the database, such as: CRUD operations to create, read, update and delete data.\n",
    "Insert - It is used to insert the a new row in the table.\n",
    "Update - It is used to update the row  in the table.\n",
    "Delete - It is used to delete the exisiting row in the table."
   ]
  },
  {
   "cell_type": "markdown",
   "id": "ad150a52-cdda-4b69-a606-a4269cbf14b3",
   "metadata": {},
   "source": [
    "#4"
   ]
  },
  {
   "cell_type": "markdown",
   "id": "a87530de-5bb0-4696-ad26-45739ad6b9a8",
   "metadata": {},
   "source": [
    "DQLs or Data Query Languages, are computer languages that are used to make various queries in information systems and databases.\n",
    "Select -  It is used to select the columns from the table. "
   ]
  },
  {
   "cell_type": "markdown",
   "id": "80c58439-8ecb-4487-85e3-89e9c567f90c",
   "metadata": {},
   "source": [
    "#5"
   ]
  },
  {
   "cell_type": "markdown",
   "id": "e090cf2d-9586-41cb-83bc-bb40fe778f84",
   "metadata": {},
   "source": [
    "Primary key - A primary key is the column or columns that contain values that uniquely identify each row in a table. A database table must have a primary key for Optim to insert, update, restore, or delete data from a database table.\n",
    "Foreign Key - A foreign key is generally used to build a relationship between the two tables."
   ]
  },
  {
   "cell_type": "markdown",
   "id": "1055ded8-7026-44e7-a005-73a1baa0751a",
   "metadata": {},
   "source": [
    "#6"
   ]
  },
  {
   "cell_type": "raw",
   "id": "a6179710-ba36-4fcc-aa78-6b719f4ff0c4",
   "metadata": {},
   "source": [
    "a) \n",
    "import mysql.connector\n",
    "my_db = mysql.connector.connect(\n",
    "        host = \"local host\",\n",
    "        user=\"abc\",\n",
    "        password=\"password\")\n",
    "mycursor = my_db.cursor()\n",
    "\n",
    "b).\n",
    "    cursor() - Cursor is a  Temporary Memory or Temporary Work Station. It is Allocated by Database Server at the Time of Performing DML(Data Manipulation Language) operations on Table by User.\n",
    "    execute() - The Execute method executes a specified query, SQL statement, stored procedure, or provider-specific text. "
   ]
  },
  {
   "cell_type": "markdown",
   "id": "742aab11-9d43-48a7-95c5-aa5bc0f86b08",
   "metadata": {},
   "source": [
    "#7"
   ]
  },
  {
   "cell_type": "raw",
   "id": "4b55eadc-99d6-4525-8bff-74b20cc81461",
   "metadata": {},
   "source": [
    "FROM/JOIN: The FROM and/or JOIN clauses are executed first to determine the data of interest.\n",
    "WHERE: The WHERE clause is executed to filter out records that do not meet the constraints.\n",
    "GROUP BY: The GROUP BY clause is executed to group the data based on the values in one or more columns."
   ]
  },
  {
   "cell_type": "code",
   "execution_count": null,
   "id": "73d25657-4f18-41d9-9080-034e4ef14f46",
   "metadata": {},
   "outputs": [],
   "source": []
  }
 ],
 "metadata": {
  "kernelspec": {
   "display_name": "Python 3 (ipykernel)",
   "language": "python",
   "name": "python3"
  },
  "language_info": {
   "codemirror_mode": {
    "name": "ipython",
    "version": 3
   },
   "file_extension": ".py",
   "mimetype": "text/x-python",
   "name": "python",
   "nbconvert_exporter": "python",
   "pygments_lexer": "ipython3",
   "version": "3.10.8"
  }
 },
 "nbformat": 4,
 "nbformat_minor": 5
}
